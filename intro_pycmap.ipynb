{
 "cells": [
  {
   "cell_type": "markdown",
   "metadata": {},
   "source": [
    "![](https://github.com/simonscmap/pycmap/blob/master/docs/figures/CMAP.png?raw=true)"
   ]
  },
  {
   "cell_type": "markdown",
   "metadata": {},
   "source": [
    "*Mohammad D. Ashkezari*\n",
    "\n",
    "\n",
    "<br/>"
   ]
  },
  {
   "cell_type": "markdown",
   "metadata": {
    "tags": []
   },
   "source": [
    "[![Open in Colab](https://colab.research.google.com/assets/colab-badge.svg)](https://colab.research.google.com/github/simonscmap/cbiomes_pp_notebooks/blob/main/intro_pycmap.ipynb)"
   ]
  },
  {
   "cell_type": "markdown",
   "metadata": {},
   "source": [
    "<a class=\"anchor\" id=\"toc\"></a>\n",
    "\n",
    "## Table of Contents:\n",
    "* [Installation](#installation)\n",
    "* [**Data Retrieval (selected methods)**]\n",
    "    * [API](#api) \n",
    "    * [Catalog](#catalog)\n",
    "    * [Search Catalog](#searchCatalog)\n",
    "    * [Retrieve Dataset](#getDataset)\n",
    "    * [Subset by Space-Time](#spaceTime)\n",
    "    * [Colocalize](#sample)   \n",
    "    * [Custom SQL Query](#query)\n",
    "    \n"
   ]
  },
  {
   "cell_type": "code",
   "execution_count": 1,
   "metadata": {
    "tags": []
   },
   "outputs": [],
   "source": [
    "from IPython.display import IFrame\n",
    "import warnings\n",
    "warnings.filterwarnings(\"ignore\", category=FutureWarning)\n",
    "IFrame(\"https://simonscmap.com/catalog?hasDepth=any&keywords=primary&keywords=production&latEnd=90&latStart=-90&lonEnd=180&lonStart=-180&timeEnd=2025-02-06&timeStart=1900-01-01\", width=2000, height=1000)"
   ]
  },
  {
   "cell_type": "markdown",
   "metadata": {
    "tags": []
   },
   "source": [
    "<a class=\"anchor\" id=\"installation\"></a> \n",
    "<a href=\"#toc\" style=\"float: right;\">Table of Contents</a>\n",
    "## Installation\n",
    "pycmap can be installed using *pip*: \n",
    "<br />`pip install pycmap`\n",
    "\n",
    "In order to use pycmap, you will need to obtain an API key from SimonsCMAP website:\n",
    "<a href=\"https://simonscmap.com\">https://simonscmap.com</a>.\n"
   ]
  },
  {
   "cell_type": "code",
   "execution_count": 5,
   "metadata": {
    "tags": []
   },
   "outputs": [],
   "source": [
    "!pip install pycmap -q\n",
    "import pycmap"
   ]
  },
  {
   "cell_type": "markdown",
   "metadata": {},
   "source": [
    "<a class=\"anchor\" id=\"api\"></a>\n",
    "<a href=\"#toc\" style=\"float: right;\">Table of Contents</a>\n",
    "## [*API( )*](https://cmap.readthedocs.io/en/latest/user_guide/API_ref/pycmap_api/pycmap_api.html#pycmapapi)\n",
    "To retrieve data, we need to create an instance of the system's API and pass the API key. It is not necessary to pass the API key every time you run pycmap, because the key will be stored locally. The API class has other optional parameters to adjust its behavior. All parameters can be updated persistently at any point in the code.\n",
    "\n",
    "Register at https://simonscmap.com and get and API key, if you haven't already."
   ]
  },
  {
   "cell_type": "code",
   "execution_count": 6,
   "metadata": {
    "tags": []
   },
   "outputs": [],
   "source": [
    "api = pycmap.API(token=\"YOUR_API_KEY\")"
   ]
  },
  {
   "cell_type": "markdown",
   "metadata": {},
   "source": [
    "<a class=\"anchor\" id=\"catalog\"></a>\n",
    "<a href=\"#toc\" style=\"float: right;\">Table of Contents</a>\n",
    "## [*get_catalog()*](https://cmap.readthedocs.io/en/latest/user_guide/API_ref/pycmap_api/data_retrieval/pycmap_catalog.html#getcatalog)\n",
    "\n",
    "Returns a dataframe containing the details of all variables at Simons CMAP database. \n",
    "<br />This method requires no input."
   ]
  },
  {
   "cell_type": "code",
   "execution_count": 18,
   "metadata": {
    "tags": []
   },
   "outputs": [],
   "source": [
    "api.get_catalog()"
   ]
  },
  {
   "cell_type": "markdown",
   "metadata": {},
   "source": [
    "<a class=\"anchor\" id=\"searchCatalog\"></a>\n",
    "<a href=\"#toc\" style=\"float: right;\">Table of Contents</a>\n",
    "## [*search_catalog(keywords)*](https://cmap.readthedocs.io/en/latest/user_guide/API_ref/pycmap_api/data_retrieval/pycmap_search_catalog.html#searchcatalog)\n",
    "\n",
    "\n",
    "Returns a dataframe containing a subset of Simons CMAP catalog of variables. \n",
    "\n",
    "All variables at Simons CMAP catalog are annotated with a collection of semantically related keywords. This method takes the passed keywords and returns all of the variables annotated with similar keywords. The passed keywords should be separated by blank space. The search result is not sensitive to the order of keywords and is not case sensitive. The passed keywords can provide any 'hint' associated with the target variables. Below are a few examples: \n",
    "\n",
    "* the exact variable name (e.g. NO3), or its linguistic term (Nitrate) \n",
    "* methodology (model, satellite ...), instrument (CTD, seaflow), or disciplines (physics, biology ...) \n",
    "* the cruise official name (e.g. KOK1606), or unofficial cruise name (Falkor) \n",
    "* the name of data producer (e.g Penny Chisholm) or institution name (MIT) \n",
    "\n",
    "<br />If you searched for a variable with semantically-related-keywords and did not get the correct results, please let us know. We can update the keywords at any point.\n"
   ]
  },
  {
   "cell_type": "code",
   "execution_count": 19,
   "metadata": {
    "tags": []
   },
   "outputs": [],
   "source": [
    "api.search_catalog(\"primary production\")"
   ]
  },
  {
   "cell_type": "markdown",
   "metadata": {},
   "source": [
    "<a class=\"anchor\" id=\"getDataset\"></a>\n",
    "<a href=\"#toc\" style=\"float: right;\">Table of Contents</a>\n",
    "## [*get_dataset(tableName)*](https://cmap.readthedocs.io/en/latest/user_guide/API_ref/pycmap_api/data_retrieval/pycmap_retrieve_dataset.html#retrieve-dataset)\n",
    "\n",
    "Returns the entire dataset. Note that this method does not return the dataset metadata. Use the Metadata method to get the dataset metadata.\n",
    "\n",
    "> **Parameters:** \n",
    ">> **tableName: string**\n",
    ">>  <br />Table name (each dataset is stored in a table). A full list of table names can be found in [catalog](https://simonscmap.com/catalog).\n",
    ">> <br />\n",
    "\n",
    "\n",
    ">**Returns:** \n",
    ">>  Pandas dataframe.\n",
    "\n"
   ]
  },
  {
   "cell_type": "code",
   "execution_count": 26,
   "metadata": {
    "tags": []
   },
   "outputs": [],
   "source": [
    "api.get_dataset(\"tblHOT242_252_14C_PP_02_3\")"
   ]
  },
  {
   "cell_type": "markdown",
   "metadata": {},
   "source": [
    "<a class=\"anchor\" id=\"spaceTime\"></a>\n",
    "<a href=\"#toc\" style=\"float: right;\">Table of Contents</a>\n",
    "## [*space_time(table, variable, dt1, dt2, lat1, lat2, lon1, lon2, depth1, depth2)*](https://cmap.readthedocs.io/en/latest/user_guide/API_ref/pycmap_api/data_retrieval/pycmap_subset_ST.html#subset-st)\n",
    "\n",
    "Returns a subset of data according to the specified space-time constraints (dt1, dt2, lat1, lat2, lon1, lon2, depth1, depth2).\n",
    "<br />The results are ordered by time, lat, lon, and depth (if exists), respectively."
   ]
  },
  {
   "cell_type": "markdown",
   "metadata": {},
   "source": [
    "> **Parameters:** \n",
    ">> **table: string**\n",
    ">>  <br />Table name (each dataset is stored in a table). A full list of table names can be found in [catalog](https://simonscmap.com/catalog).\n",
    ">> <br />\n",
    ">> <br />**variable: string**\n",
    ">>  <br />Variable short name which directly corresponds to a field name in the table. A subset of this variable is returned by this method according to the spatio-temporal cut parameters (below). Pass **'\\*'** wild card to retrieve all fields in a table. A full list of variable short names can be found in [catalog](https://simonscmap.com/catalog).\n",
    ">> <br />\n",
    ">> <br />**dt1: string**\n",
    ">>  <br />Start date or datetime. This parameter sets the lower bound of the temporal cut. <br />Example values: '2016-05-25' or '2017-12-10 17:25:00'\n",
    ">> <br />\n",
    ">> <br />**dt2: string**\n",
    ">>  <br />End date or datetime. This parameter sets the upper bound of the temporal cut. \n",
    ">> <br />\n",
    ">> <br />**lat1: float**\n",
    ">>  <br />Start latitude [degree N]. This parameter sets the lower bound of the meridional cut. Note latitude ranges from -90&deg; to 90&deg;.\n",
    ">> <br />\n",
    ">> <br />**lat2: float**\n",
    ">>  <br />End latitude [degree N]. This parameter sets the upper bound of the meridional cut. Note latitude ranges from -90&deg; to 90&deg;.\n",
    ">> <br />\n",
    ">> <br />**lon1: float**\n",
    ">>  <br />Start longitude [degree E]. This parameter sets the lower bound of the zonal cut. Note longitue ranges from -180&deg; to 180&deg;.\n",
    ">> <br />\n",
    ">> <br />**lon2: float**\n",
    ">>  <br />End longitude [degree E]. This parameter sets the upper bound of the zonal cut. Note longitue ranges from -180&deg; to 180&deg;.\n",
    ">> <br />\n",
    ">> <br />**depth1: float**\n",
    ">>  <br />Start depth [m]. This parameter sets the lower bound of the vertical cut. Note depth is a positive number (it is 0 at surface and grows towards ocean floor).\n",
    ">> <br />\n",
    ">> <br />**depth2: float**\n",
    ">>  <br />End depth [m]. This parameter sets the upper bound of the vertical cut. Note depth is a positive number (it is 0 at surface and grows towards ocean floor).\n",
    "\n",
    "\n",
    ">**Returns:** \n",
    ">>  Pandas dataframe.\n"
   ]
  },
  {
   "cell_type": "markdown",
   "metadata": {},
   "source": [
    "### Example:\n",
    "This example retrieves a subset of in-situ salinity measurements by [Argo floats](https://simonscmap.com/catalog/datasets/ARGO_Core)."
   ]
  },
  {
   "cell_type": "code",
   "execution_count": 7,
   "metadata": {
    "tags": []
   },
   "outputs": [],
   "source": [
    "api.space_time(\n",
    "              table=\"tblHOT_PP_v2022\", \n",
    "              variable=\"l12\", \n",
    "              dt1=\"1988-10-31\", \n",
    "              dt2=\"2022-09-01\", \n",
    "              lat1=22.75, \n",
    "              lat2=22.75, \n",
    "              lon1=-158, \n",
    "              lon2=-158, \n",
    "              depth1=0, \n",
    "              depth2=178\n",
    "              ) "
   ]
  },
  {
   "cell_type": "markdown",
   "metadata": {},
   "source": [
    "<a class=\"anchor\" id=\"sample\"></a>\n",
    "<a href=\"#toc\" style=\"float: right;\">Table of Contents</a>\n",
    "## Colocalization:\n",
    "<code>Sample(source, targets, replaceWithMonthlyClimatolog)<code/>\n",
    "\n",
    "<br />Samples the targest datasets using the time-location of the source dataset\n",
    "<br />Returns a dataframe containing the original source data and the joined colocalized target variables.\n",
    "<br />\n",
    "\n",
    "\n",
    "\n",
    "> **Parameters:** \n",
    ">> **source: dataframe**\n",
    ">>  <br />A dataframe containing the source datasets (must have time-location columns).\n",
    ">> <br />\n",
    ">> <br />**targets: dict**\n",
    ">>  <br />A dcitionary containing the target table/variables and tolerance parameters. The items in `tolerances` list are: temporal tolerance [days], meridional tolerance [deg], \n",
    ">>    zonal tolerance [deg], and vertical tolerance [m], repectively.\n",
    ">>    Below is an example for `targets` parameter:<br />\n",
    ">>    <br />targets = {\n",
    ">>    <br />        \"tblSST_AVHRR_OI_NRT\": {\n",
    ">>    <br />                                \"variables\": [\"sst\"],\n",
    ">>    <br />                                \"tolerances\": [1, 0.25, 0.25, 5]\n",
    ">>    <br />                                },\n",
    ">>    <br />        \"tblAltimetry_REP\": {\n",
    ">>    <br />                                \"variables\": [\"sla\", \"adt\", \"ugosa\", \"vgosa\"],\n",
    ">>    <br />                                \"tolerances\": [1, 0.25, 0.25, 5]\n",
    ">>    <br />                               }\n",
    ">>    <br />        }\n",
    ">> <br />\n",
    ">> <br />**replaceWithMonthlyClimatolog: boolean**\n",
    ">>  <br />If `True`, monthly climatology of the target variables is colocalized when the target dataset's temporal range does not cover the source data. If `False`, only contemporaneous target data are colocalized. \n",
    ">> <br />\n",
    "\n",
    ">**Returns:** \n",
    ">>  Pandas dataframe."
   ]
  },
  {
   "cell_type": "code",
   "execution_count": 6,
   "metadata": {
    "tags": []
   },
   "outputs": [],
   "source": [
    "targets = {\n",
    "\n",
    "            \"tblWOA_Climatology\": {\n",
    "                                    \"variables\": [\"sea_water_temp_WOA_clim\", \"density_WOA_clim\", \"salinity_WOA_clim\", \"nitrate_WOA_clim\", \"phosphate_WOA_clim\", \"silicate_WOA_clim\", \"oxygen_WOA_clim\"],\n",
    "                                    \"tolerances\": [0, 0.75, 0.75, 5]\n",
    "                                    }        \n",
    "            }\n",
    "\n",
    "\n",
    "df = pycmap.Sample(\n",
    "              source=api.get_dataset(\"tblKM1709_MS_Fe_14C_PP\"), \n",
    "              targets=targets, \n",
    "              replaceWithMonthlyClimatolog=True,\n",
    "              servers=[\"Rossby\"]  \n",
    "             )\n",
    "\n",
    "\n",
    "\n",
    "df"
   ]
  },
  {
   "cell_type": "code",
   "execution_count": 5,
   "metadata": {
    "tags": []
   },
   "outputs": [],
   "source": [
    "_ = df.plot.scatter(x=\"CMAP_sea_water_temp_WOA_clim_tblWOA_Climatology\", y=\"C14_assimilation\")"
   ]
  },
  {
   "cell_type": "markdown",
   "metadata": {},
   "source": [
    "<a class=\"anchor\" id=\"query\"></a>\n",
    "<a href=\"#toc\" style=\"float: right;\">Table of Contents</a>\n",
    "## [*query(sql)*](https://cmap.readthedocs.io/en/latest/user_guide/API_ref/pycmap_api/data_retrieval/pycmap_query.html#query)\n",
    "<br />Simons CMAP datasets are hosted in databases with SQL interface. Optionally, pycmap allows users to directly execute readonly SQL commands to retrieve data using the `query()` method.\n",
    "\n",
    "<br />"
   ]
  },
  {
   "cell_type": "markdown",
   "metadata": {},
   "source": [
    "### Example:\n",
    "A sample query returning the timeseries of sea surface temperature (sst)."
   ]
  },
  {
   "cell_type": "code",
   "execution_count": 2,
   "metadata": {
    "tags": []
   },
   "outputs": [],
   "source": [
    "api.query(\n",
    "         '''\n",
    "         SELECT [time], lat, lon, sst FROM tblsst_AVHRR_OI_NRT\n",
    "         WHERE\n",
    "         [time] BETWEEN '2016-06-01' AND '2016-06-01' AND\n",
    "         lat BETWEEN 23 AND 24 AND\n",
    "         lon BETWEEN -160 AND -158\n",
    "         ORDER BY [time], lat, lon\n",
    "         '''\n",
    "         )"
   ]
  },
  {
   "cell_type": "markdown",
   "metadata": {},
   "source": [
    "## Candidate Observation Datasets with Primary Production Theme\n",
    "I have already identified 21 datasets in CMAP with primary production observations (not model). I have also colocalized them with temperarure, salinity, and nutrients climatology from World Ocean Atlas datasets. You can download them from github. "
   ]
  },
  {
   "cell_type": "code",
   "execution_count": 3,
   "metadata": {
    "tags": []
   },
   "outputs": [],
   "source": [
    "!rm -rf cbiomes_pp_datasets\n",
    "!git clone https://github.com/simonscmap/cbiomes_pp_datasets.git"
   ]
  },
  {
   "cell_type": "code",
   "execution_count": 4,
   "metadata": {
    "tags": []
   },
   "outputs": [],
   "source": [
    "import pandas as pd\n",
    "\n",
    "df = pd.read_csv(\"./cbiomes_pp_datasets/tblHOT_Bottle_ALOHA_colocalized.csv\")\n",
    "\n",
    "df.plot.scatter(x=\"dic\", y=\"l12\", alpha=0.4)"
   ]
  }
 ],
 "metadata": {
  "kernelspec": {
   "display_name": "Python 3 (ipykernel)",
   "language": "python",
   "name": "python3"
  },
  "language_info": {
   "codemirror_mode": {
    "name": "ipython",
    "version": 3
   },
   "file_extension": ".py",
   "mimetype": "text/x-python",
   "name": "python",
   "nbconvert_exporter": "python",
   "pygments_lexer": "ipython3",
   "version": "3.11.5"
  }
 },
 "nbformat": 4,
 "nbformat_minor": 4
}
